{
 "cells": [
  {
   "cell_type": "code",
   "execution_count": 1,
   "metadata": {
    "ExecuteTime": {
     "end_time": "2020-08-24T06:18:14.193772Z",
     "start_time": "2020-08-24T06:18:13.192024Z"
    }
   },
   "outputs": [],
   "source": [
    "import urllib\n",
    "from sqlalchemy import create_engine\n",
    "import pandas as pd\n",
    "import datetime, time\n",
    "from dateutil.relativedelta import relativedelta\n",
    "import matplotlib.pyplot as plt\n",
    "import seaborn as sns\n",
    "from pycaret.anomaly import *"
   ]
  },
  {
   "cell_type": "code",
   "execution_count": 2,
   "metadata": {
    "ExecuteTime": {
     "end_time": "2020-08-24T06:18:19.018263Z",
     "start_time": "2020-08-24T06:18:14.196090Z"
    }
   },
   "outputs": [
    {
     "name": "stderr",
     "output_type": "stream",
     "text": [
      "C:\\Users\\harry.yan\\Anaconda3\\lib\\site-packages\\IPython\\core\\interactiveshell.py:3063: DtypeWarning: Columns (229) have mixed types.Specify dtype option on import or set low_memory=False.\n",
      "  interactivity=interactivity, compiler=compiler, result=result)\n"
     ]
    }
   ],
   "source": [
    "df_inve = pd.read_csv('input//inv_bal.csv')\n",
    "sales = pd.read_csv('input//daily_sales.csv')\n",
    "summary = pd.read_csv('input//summary.csv')"
   ]
  },
  {
   "cell_type": "code",
   "execution_count": 3,
   "metadata": {
    "ExecuteTime": {
     "end_time": "2020-08-24T06:18:19.128959Z",
     "start_time": "2020-08-24T06:18:19.021208Z"
    },
    "scrolled": false
   },
   "outputs": [],
   "source": [
    "inve = df_inve.copy()\n",
    "summary = summary.iloc[:,:6]"
   ]
  },
  {
   "cell_type": "code",
   "execution_count": 4,
   "metadata": {
    "ExecuteTime": {
     "end_time": "2020-08-24T06:18:19.207366Z",
     "start_time": "2020-08-24T06:18:19.130914Z"
    }
   },
   "outputs": [],
   "source": [
    "inve = inve[['Company and Cost Centre','Product Category','SKU','RPT Sales and Margin Measure','Value']]"
   ]
  },
  {
   "cell_type": "code",
   "execution_count": 5,
   "metadata": {
    "ExecuteTime": {
     "end_time": "2020-08-24T06:18:19.239285Z",
     "start_time": "2020-08-24T06:18:19.208368Z"
    }
   },
   "outputs": [
    {
     "data": {
      "text/html": [
       "<div>\n",
       "<style scoped>\n",
       "    .dataframe tbody tr th:only-of-type {\n",
       "        vertical-align: middle;\n",
       "    }\n",
       "\n",
       "    .dataframe tbody tr th {\n",
       "        vertical-align: top;\n",
       "    }\n",
       "\n",
       "    .dataframe thead th {\n",
       "        text-align: right;\n",
       "    }\n",
       "</style>\n",
       "<table border=\"1\" class=\"dataframe\">\n",
       "  <thead>\n",
       "    <tr style=\"text-align: right;\">\n",
       "      <th></th>\n",
       "      <th>Company and Cost Centre</th>\n",
       "      <th>Product Category</th>\n",
       "      <th>SKU</th>\n",
       "      <th>RPT Sales and Margin Measure</th>\n",
       "      <th>Value</th>\n",
       "    </tr>\n",
       "  </thead>\n",
       "  <tbody>\n",
       "    <tr>\n",
       "      <th>0</th>\n",
       "      <td>AULS.CNS102</td>\n",
       "      <td>12_ Phonecards</td>\n",
       "      <td>AULS100061</td>\n",
       "      <td>Stock Balance Qty</td>\n",
       "      <td>1.000000e+00</td>\n",
       "    </tr>\n",
       "    <tr>\n",
       "      <th>1</th>\n",
       "      <td>AULS.CNS102</td>\n",
       "      <td>12_ Phonecards</td>\n",
       "      <td>AULS100061</td>\n",
       "      <td>Stock Balance Amount</td>\n",
       "      <td>1.840000e+01</td>\n",
       "    </tr>\n",
       "    <tr>\n",
       "      <th>2</th>\n",
       "      <td>AULS.BNE202</td>\n",
       "      <td>11_ Cosmetics and HBA</td>\n",
       "      <td>AULS100080</td>\n",
       "      <td>Stock Balance Amount</td>\n",
       "      <td>-1.776357e-15</td>\n",
       "    </tr>\n",
       "    <tr>\n",
       "      <th>3</th>\n",
       "      <td>AULS.CNS102</td>\n",
       "      <td>11_ Cosmetics and HBA</td>\n",
       "      <td>AULS100080</td>\n",
       "      <td>Stock Balance Amount</td>\n",
       "      <td>-2.000000e-02</td>\n",
       "    </tr>\n",
       "    <tr>\n",
       "      <th>4</th>\n",
       "      <td>AULS.CBR101</td>\n",
       "      <td>11_ Cosmetics and HBA</td>\n",
       "      <td>AULS100080</td>\n",
       "      <td>Stock Balance Amount</td>\n",
       "      <td>-3.000000e-02</td>\n",
       "    </tr>\n",
       "    <tr>\n",
       "      <th>...</th>\n",
       "      <td>...</td>\n",
       "      <td>...</td>\n",
       "      <td>...</td>\n",
       "      <td>...</td>\n",
       "      <td>...</td>\n",
       "    </tr>\n",
       "    <tr>\n",
       "      <th>1149096</th>\n",
       "      <td>NZDF.QZN101</td>\n",
       "      <td>15_ Liquor</td>\n",
       "      <td>NZDF99461</td>\n",
       "      <td>Stock Balance Qty</td>\n",
       "      <td>2.700000e+01</td>\n",
       "    </tr>\n",
       "    <tr>\n",
       "      <th>1149097</th>\n",
       "      <td>NZDF.QZN101</td>\n",
       "      <td>15_ Liquor</td>\n",
       "      <td>NZDF99461</td>\n",
       "      <td>Stock Balance Amount</td>\n",
       "      <td>3.912141e+02</td>\n",
       "    </tr>\n",
       "    <tr>\n",
       "      <th>1149098</th>\n",
       "      <td>NZDF.QZN102</td>\n",
       "      <td>15_ Liquor</td>\n",
       "      <td>NZDF99461</td>\n",
       "      <td>Stock Balance Qty</td>\n",
       "      <td>2.700000e+01</td>\n",
       "    </tr>\n",
       "    <tr>\n",
       "      <th>1149099</th>\n",
       "      <td>NZDF.QZN102</td>\n",
       "      <td>15_ Liquor</td>\n",
       "      <td>NZDF99461</td>\n",
       "      <td>Stock Balance Amount</td>\n",
       "      <td>3.883160e+02</td>\n",
       "    </tr>\n",
       "    <tr>\n",
       "      <th>1149100</th>\n",
       "      <td>NZDF.QZN501</td>\n",
       "      <td>15_ Liquor</td>\n",
       "      <td>NZDF99461</td>\n",
       "      <td>Stock Balance Qty</td>\n",
       "      <td>7.000000e+00</td>\n",
       "    </tr>\n",
       "  </tbody>\n",
       "</table>\n",
       "<p>1149101 rows × 5 columns</p>\n",
       "</div>"
      ],
      "text/plain": [
       "        Company and Cost Centre       Product Category         SKU  \\\n",
       "0                   AULS.CNS102         12_ Phonecards  AULS100061   \n",
       "1                   AULS.CNS102         12_ Phonecards  AULS100061   \n",
       "2                   AULS.BNE202  11_ Cosmetics and HBA  AULS100080   \n",
       "3                   AULS.CNS102  11_ Cosmetics and HBA  AULS100080   \n",
       "4                   AULS.CBR101  11_ Cosmetics and HBA  AULS100080   \n",
       "...                         ...                    ...         ...   \n",
       "1149096             NZDF.QZN101             15_ Liquor   NZDF99461   \n",
       "1149097             NZDF.QZN101             15_ Liquor   NZDF99461   \n",
       "1149098             NZDF.QZN102             15_ Liquor   NZDF99461   \n",
       "1149099             NZDF.QZN102             15_ Liquor   NZDF99461   \n",
       "1149100             NZDF.QZN501             15_ Liquor   NZDF99461   \n",
       "\n",
       "        RPT Sales and Margin Measure         Value  \n",
       "0                  Stock Balance Qty  1.000000e+00  \n",
       "1               Stock Balance Amount  1.840000e+01  \n",
       "2               Stock Balance Amount -1.776357e-15  \n",
       "3               Stock Balance Amount -2.000000e-02  \n",
       "4               Stock Balance Amount -3.000000e-02  \n",
       "...                              ...           ...  \n",
       "1149096            Stock Balance Qty  2.700000e+01  \n",
       "1149097         Stock Balance Amount  3.912141e+02  \n",
       "1149098            Stock Balance Qty  2.700000e+01  \n",
       "1149099         Stock Balance Amount  3.883160e+02  \n",
       "1149100            Stock Balance Qty  7.000000e+00  \n",
       "\n",
       "[1149101 rows x 5 columns]"
      ]
     },
     "execution_count": 5,
     "metadata": {},
     "output_type": "execute_result"
    }
   ],
   "source": [
    "inve"
   ]
  },
  {
   "cell_type": "code",
   "execution_count": 6,
   "metadata": {
    "ExecuteTime": {
     "end_time": "2020-08-24T06:18:20.715822Z",
     "start_time": "2020-08-24T06:18:19.242281Z"
    }
   },
   "outputs": [],
   "source": [
    "inve_pivot = inve.pivot_table(\n",
    "    index = ['Company and Cost Centre','Product Category','SKU'],\n",
    "    columns='RPT Sales and Margin Measure',\n",
    "    values = 'Value',\n",
    "    aggfunc = 'sum').reset_index()"
   ]
  },
  {
   "cell_type": "code",
   "execution_count": 7,
   "metadata": {
    "ExecuteTime": {
     "end_time": "2020-08-24T06:18:20.794892Z",
     "start_time": "2020-08-24T06:18:20.716822Z"
    }
   },
   "outputs": [],
   "source": [
    "inve_pivot = inve_pivot.round(0)"
   ]
  },
  {
   "cell_type": "code",
   "execution_count": 8,
   "metadata": {
    "ExecuteTime": {
     "end_time": "2020-08-24T06:18:20.810888Z",
     "start_time": "2020-08-24T06:18:20.797884Z"
    }
   },
   "outputs": [],
   "source": [
    "# inve_raw = inve_pivot[(inve_pivot['Stock Balance Amount'] >=1)&(inve_pivot['Stock Balance Qty']>0)]"
   ]
  },
  {
   "cell_type": "code",
   "execution_count": 9,
   "metadata": {
    "ExecuteTime": {
     "end_time": "2020-08-24T06:18:20.859034Z",
     "start_time": "2020-08-24T06:18:20.813842Z"
    }
   },
   "outputs": [],
   "source": [
    "inve_raw = inve_pivot[((inve_pivot['Stock Balance Amount'] >0)|(inve_pivot['Stock Balance Amount'] <0))&((inve_pivot['Stock Balance Qty']>0)|(inve_pivot['Stock Balance Qty']<0))]"
   ]
  },
  {
   "cell_type": "code",
   "execution_count": 10,
   "metadata": {
    "ExecuteTime": {
     "end_time": "2020-08-24T06:18:20.874994Z",
     "start_time": "2020-08-24T06:18:20.861031Z"
    }
   },
   "outputs": [
    {
     "data": {
      "text/html": [
       "<div>\n",
       "<style scoped>\n",
       "    .dataframe tbody tr th:only-of-type {\n",
       "        vertical-align: middle;\n",
       "    }\n",
       "\n",
       "    .dataframe tbody tr th {\n",
       "        vertical-align: top;\n",
       "    }\n",
       "\n",
       "    .dataframe thead th {\n",
       "        text-align: right;\n",
       "    }\n",
       "</style>\n",
       "<table border=\"1\" class=\"dataframe\">\n",
       "  <thead>\n",
       "    <tr style=\"text-align: right;\">\n",
       "      <th>RPT Sales and Margin Measure</th>\n",
       "      <th>Company and Cost Centre</th>\n",
       "      <th>Product Category</th>\n",
       "      <th>SKU</th>\n",
       "      <th>Stock Balance Amount</th>\n",
       "      <th>Stock Balance Qty</th>\n",
       "    </tr>\n",
       "  </thead>\n",
       "  <tbody>\n",
       "    <tr>\n",
       "      <th>16</th>\n",
       "      <td>AUDF.ADL110</td>\n",
       "      <td>04_ Tobacco</td>\n",
       "      <td>AUDF100429846</td>\n",
       "      <td>29.0</td>\n",
       "      <td>30.0</td>\n",
       "    </tr>\n",
       "    <tr>\n",
       "      <th>17</th>\n",
       "      <td>AUDF.ADL110</td>\n",
       "      <td>04_ Tobacco</td>\n",
       "      <td>AUDF100429847</td>\n",
       "      <td>39.0</td>\n",
       "      <td>40.0</td>\n",
       "    </tr>\n",
       "    <tr>\n",
       "      <th>18</th>\n",
       "      <td>AUDF.ADL110</td>\n",
       "      <td>04_ Tobacco</td>\n",
       "      <td>AUDF100429848</td>\n",
       "      <td>33.0</td>\n",
       "      <td>14.0</td>\n",
       "    </tr>\n",
       "    <tr>\n",
       "      <th>37</th>\n",
       "      <td>AUDF.ADL110</td>\n",
       "      <td>04_ Tobacco</td>\n",
       "      <td>AUDF100540175</td>\n",
       "      <td>31.0</td>\n",
       "      <td>10.0</td>\n",
       "    </tr>\n",
       "    <tr>\n",
       "      <th>40</th>\n",
       "      <td>AUDF.ADL110</td>\n",
       "      <td>04_ Tobacco</td>\n",
       "      <td>AUDF100604660</td>\n",
       "      <td>14.0</td>\n",
       "      <td>3.0</td>\n",
       "    </tr>\n",
       "    <tr>\n",
       "      <th>...</th>\n",
       "      <td>...</td>\n",
       "      <td>...</td>\n",
       "      <td>...</td>\n",
       "      <td>...</td>\n",
       "      <td>...</td>\n",
       "    </tr>\n",
       "    <tr>\n",
       "      <th>876159</th>\n",
       "      <td>NZLS.WLG199</td>\n",
       "      <td>05_ Beverages</td>\n",
       "      <td>NZLS169923</td>\n",
       "      <td>41.0</td>\n",
       "      <td>24.0</td>\n",
       "    </tr>\n",
       "    <tr>\n",
       "      <th>876161</th>\n",
       "      <td>NZLS.WLG199</td>\n",
       "      <td>05_ Beverages</td>\n",
       "      <td>NZLS169925</td>\n",
       "      <td>41.0</td>\n",
       "      <td>24.0</td>\n",
       "    </tr>\n",
       "    <tr>\n",
       "      <th>876194</th>\n",
       "      <td>NZLS.WLG199</td>\n",
       "      <td>05_ Beverages</td>\n",
       "      <td>NZLS188709</td>\n",
       "      <td>65.0</td>\n",
       "      <td>48.0</td>\n",
       "    </tr>\n",
       "    <tr>\n",
       "      <th>876198</th>\n",
       "      <td>NZLS.WLG199</td>\n",
       "      <td>05_ Beverages</td>\n",
       "      <td>NZLS188956</td>\n",
       "      <td>154.0</td>\n",
       "      <td>96.0</td>\n",
       "    </tr>\n",
       "    <tr>\n",
       "      <th>876201</th>\n",
       "      <td>NZLS.WLG199</td>\n",
       "      <td>05_ Beverages</td>\n",
       "      <td>NZLS188960</td>\n",
       "      <td>67.0</td>\n",
       "      <td>36.0</td>\n",
       "    </tr>\n",
       "  </tbody>\n",
       "</table>\n",
       "<p>267712 rows × 5 columns</p>\n",
       "</div>"
      ],
      "text/plain": [
       "RPT Sales and Margin Measure Company and Cost Centre Product Category  \\\n",
       "16                                       AUDF.ADL110      04_ Tobacco   \n",
       "17                                       AUDF.ADL110      04_ Tobacco   \n",
       "18                                       AUDF.ADL110      04_ Tobacco   \n",
       "37                                       AUDF.ADL110      04_ Tobacco   \n",
       "40                                       AUDF.ADL110      04_ Tobacco   \n",
       "...                                              ...              ...   \n",
       "876159                                   NZLS.WLG199    05_ Beverages   \n",
       "876161                                   NZLS.WLG199    05_ Beverages   \n",
       "876194                                   NZLS.WLG199    05_ Beverages   \n",
       "876198                                   NZLS.WLG199    05_ Beverages   \n",
       "876201                                   NZLS.WLG199    05_ Beverages   \n",
       "\n",
       "RPT Sales and Margin Measure            SKU  Stock Balance Amount  \\\n",
       "16                            AUDF100429846                  29.0   \n",
       "17                            AUDF100429847                  39.0   \n",
       "18                            AUDF100429848                  33.0   \n",
       "37                            AUDF100540175                  31.0   \n",
       "40                            AUDF100604660                  14.0   \n",
       "...                                     ...                   ...   \n",
       "876159                           NZLS169923                  41.0   \n",
       "876161                           NZLS169925                  41.0   \n",
       "876194                           NZLS188709                  65.0   \n",
       "876198                           NZLS188956                 154.0   \n",
       "876201                           NZLS188960                  67.0   \n",
       "\n",
       "RPT Sales and Margin Measure  Stock Balance Qty  \n",
       "16                                         30.0  \n",
       "17                                         40.0  \n",
       "18                                         14.0  \n",
       "37                                         10.0  \n",
       "40                                          3.0  \n",
       "...                                         ...  \n",
       "876159                                     24.0  \n",
       "876161                                     24.0  \n",
       "876194                                     48.0  \n",
       "876198                                     96.0  \n",
       "876201                                     36.0  \n",
       "\n",
       "[267712 rows x 5 columns]"
      ]
     },
     "execution_count": 10,
     "metadata": {},
     "output_type": "execute_result"
    }
   ],
   "source": [
    "inve_raw"
   ]
  },
  {
   "cell_type": "code",
   "execution_count": 11,
   "metadata": {
    "ExecuteTime": {
     "end_time": "2020-08-24T06:18:21.062969Z",
     "start_time": "2020-08-24T06:18:20.876989Z"
    }
   },
   "outputs": [],
   "source": [
    "data = inve_raw.merge(summary,on=['Company and Cost Centre','Product Category','SKU'],how='left')"
   ]
  },
  {
   "cell_type": "code",
   "execution_count": 12,
   "metadata": {
    "ExecuteTime": {
     "end_time": "2020-08-24T06:18:21.094832Z",
     "start_time": "2020-08-24T06:18:21.064926Z"
    }
   },
   "outputs": [],
   "source": [
    "data = data[data['Ave Qty Sold - L7D']>0]"
   ]
  },
  {
   "cell_type": "code",
   "execution_count": 13,
   "metadata": {
    "ExecuteTime": {
     "end_time": "2020-08-24T06:18:21.141520Z",
     "start_time": "2020-08-24T06:18:21.097828Z"
    }
   },
   "outputs": [],
   "source": [
    "data['days of inv'] = data['Stock Balance Qty'] / data['Ave Qty Sold - L7D']"
   ]
  },
  {
   "cell_type": "code",
   "execution_count": null,
   "metadata": {},
   "outputs": [],
   "source": []
  },
  {
   "cell_type": "code",
   "execution_count": 14,
   "metadata": {
    "ExecuteTime": {
     "end_time": "2020-08-24T06:18:21.156819Z",
     "start_time": "2020-08-24T06:18:21.142521Z"
    }
   },
   "outputs": [],
   "source": [
    "def iforest(df):\n",
    "    exp = setup(df[['days of inv', 'Stock Balance Amount']], silent = True, normalize = True)    \n",
    "    knn = create_model(model = 'iforest', fraction = 0.05, verbose=False)\n",
    "    result = predict_model(knn, data=df)\n",
    "    return result"
   ]
  },
  {
   "cell_type": "code",
   "execution_count": null,
   "metadata": {},
   "outputs": [],
   "source": []
  },
  {
   "cell_type": "code",
   "execution_count": 15,
   "metadata": {
    "ExecuteTime": {
     "end_time": "2020-08-24T06:18:21.171936Z",
     "start_time": "2020-08-24T06:18:21.157841Z"
    }
   },
   "outputs": [],
   "source": [
    "negative_value = (data['Stock Balance Amount']<0)|(data['Stock Balance Qty']<0)|(data['Ave Qty Sold - L7D']<0)\n",
    "others = [not i for i in (data['Stock Balance Amount']<0)|(data['Stock Balance Qty']<0)|(data['Ave Qty Sold - L7D']<0)]"
   ]
  },
  {
   "cell_type": "code",
   "execution_count": 16,
   "metadata": {
    "ExecuteTime": {
     "end_time": "2020-08-24T06:18:30.178607Z",
     "start_time": "2020-08-24T06:18:21.173933Z"
    }
   },
   "outputs": [],
   "source": [
    "temp = []\n",
    "for i, df in data[others].groupby('Product Category'):\n",
    "    try:\n",
    "        result = iforest(df)\n",
    "        temp.append(result)\n",
    "    except ValueError:\n",
    "        pass"
   ]
  },
  {
   "cell_type": "code",
   "execution_count": 17,
   "metadata": {
    "ExecuteTime": {
     "end_time": "2020-08-24T06:18:30.209568Z",
     "start_time": "2020-08-24T06:18:30.183642Z"
    }
   },
   "outputs": [],
   "source": [
    "temp.append(data[negative_value])\n",
    "result = pd.concat(temp)"
   ]
  },
  {
   "cell_type": "code",
   "execution_count": 18,
   "metadata": {
    "ExecuteTime": {
     "end_time": "2020-08-24T06:18:30.241497Z",
     "start_time": "2020-08-24T06:18:30.210526Z"
    }
   },
   "outputs": [
    {
     "data": {
      "text/html": [
       "<div>\n",
       "<style scoped>\n",
       "    .dataframe tbody tr th:only-of-type {\n",
       "        vertical-align: middle;\n",
       "    }\n",
       "\n",
       "    .dataframe tbody tr th {\n",
       "        vertical-align: top;\n",
       "    }\n",
       "\n",
       "    .dataframe thead th {\n",
       "        text-align: right;\n",
       "    }\n",
       "</style>\n",
       "<table border=\"1\" class=\"dataframe\">\n",
       "  <thead>\n",
       "    <tr style=\"text-align: right;\">\n",
       "      <th></th>\n",
       "      <th>Company and Cost Centre</th>\n",
       "      <th>Product Category</th>\n",
       "      <th>SKU</th>\n",
       "      <th>Stock Balance Amount</th>\n",
       "      <th>Stock Balance Qty</th>\n",
       "      <th>Ave Qty Sold - L14D</th>\n",
       "      <th>Ave Qty Sold - L7D</th>\n",
       "      <th>Ave Qty Sold - L3D</th>\n",
       "      <th>days of inv</th>\n",
       "      <th>Label</th>\n",
       "      <th>Score</th>\n",
       "    </tr>\n",
       "  </thead>\n",
       "  <tbody>\n",
       "    <tr>\n",
       "      <th>45740</th>\n",
       "      <td>AULS.ADL102</td>\n",
       "      <td>03_ Books</td>\n",
       "      <td>AULS305379</td>\n",
       "      <td>15.0</td>\n",
       "      <td>6.0</td>\n",
       "      <td>0.071429</td>\n",
       "      <td>0.142857</td>\n",
       "      <td>0.0</td>\n",
       "      <td>42.0</td>\n",
       "      <td>0.0</td>\n",
       "      <td>-0.131570</td>\n",
       "    </tr>\n",
       "    <tr>\n",
       "      <th>45766</th>\n",
       "      <td>AULS.ADL102</td>\n",
       "      <td>03_ Books</td>\n",
       "      <td>AULS305408</td>\n",
       "      <td>5.0</td>\n",
       "      <td>2.0</td>\n",
       "      <td>0.071429</td>\n",
       "      <td>0.142857</td>\n",
       "      <td>0.0</td>\n",
       "      <td>14.0</td>\n",
       "      <td>0.0</td>\n",
       "      <td>-0.148440</td>\n",
       "    </tr>\n",
       "    <tr>\n",
       "      <th>45787</th>\n",
       "      <td>AULS.ADL102</td>\n",
       "      <td>03_ Books</td>\n",
       "      <td>AULS313398</td>\n",
       "      <td>12.0</td>\n",
       "      <td>2.0</td>\n",
       "      <td>0.071429</td>\n",
       "      <td>0.142857</td>\n",
       "      <td>0.0</td>\n",
       "      <td>14.0</td>\n",
       "      <td>0.0</td>\n",
       "      <td>-0.188736</td>\n",
       "    </tr>\n",
       "    <tr>\n",
       "      <th>45794</th>\n",
       "      <td>AULS.ADL102</td>\n",
       "      <td>03_ Books</td>\n",
       "      <td>AULS313421</td>\n",
       "      <td>5.0</td>\n",
       "      <td>1.0</td>\n",
       "      <td>0.071429</td>\n",
       "      <td>0.142857</td>\n",
       "      <td>0.0</td>\n",
       "      <td>7.0</td>\n",
       "      <td>0.0</td>\n",
       "      <td>-0.159240</td>\n",
       "    </tr>\n",
       "    <tr>\n",
       "      <th>45806</th>\n",
       "      <td>AULS.ADL102</td>\n",
       "      <td>03_ Books</td>\n",
       "      <td>AULS328354</td>\n",
       "      <td>5.0</td>\n",
       "      <td>1.0</td>\n",
       "      <td>0.071429</td>\n",
       "      <td>0.142857</td>\n",
       "      <td>0.0</td>\n",
       "      <td>7.0</td>\n",
       "      <td>0.0</td>\n",
       "      <td>-0.159240</td>\n",
       "    </tr>\n",
       "    <tr>\n",
       "      <th>...</th>\n",
       "      <td>...</td>\n",
       "      <td>...</td>\n",
       "      <td>...</td>\n",
       "      <td>...</td>\n",
       "      <td>...</td>\n",
       "      <td>...</td>\n",
       "      <td>...</td>\n",
       "      <td>...</td>\n",
       "      <td>...</td>\n",
       "      <td>...</td>\n",
       "      <td>...</td>\n",
       "    </tr>\n",
       "    <tr>\n",
       "      <th>263340</th>\n",
       "      <td>NZLS.WLG101</td>\n",
       "      <td>08_ Access and Stationery</td>\n",
       "      <td>NZLS107122</td>\n",
       "      <td>-5.0</td>\n",
       "      <td>-2.0</td>\n",
       "      <td>0.285714</td>\n",
       "      <td>0.142857</td>\n",
       "      <td>0.0</td>\n",
       "      <td>-14.0</td>\n",
       "      <td>NaN</td>\n",
       "      <td>NaN</td>\n",
       "    </tr>\n",
       "    <tr>\n",
       "      <th>263904</th>\n",
       "      <td>NZLS.WLG101</td>\n",
       "      <td>10_ Gifts and Souvenirs</td>\n",
       "      <td>NZLS171615</td>\n",
       "      <td>-2.0</td>\n",
       "      <td>-1.0</td>\n",
       "      <td>0.071429</td>\n",
       "      <td>0.142857</td>\n",
       "      <td>0.0</td>\n",
       "      <td>-7.0</td>\n",
       "      <td>NaN</td>\n",
       "      <td>NaN</td>\n",
       "    </tr>\n",
       "    <tr>\n",
       "      <th>264111</th>\n",
       "      <td>NZLS.WLG101</td>\n",
       "      <td>10_ Gifts and Souvenirs</td>\n",
       "      <td>NZLS184058</td>\n",
       "      <td>-7.0</td>\n",
       "      <td>-1.0</td>\n",
       "      <td>0.142857</td>\n",
       "      <td>0.142857</td>\n",
       "      <td>0.0</td>\n",
       "      <td>-7.0</td>\n",
       "      <td>NaN</td>\n",
       "      <td>NaN</td>\n",
       "    </tr>\n",
       "    <tr>\n",
       "      <th>264115</th>\n",
       "      <td>NZLS.WLG101</td>\n",
       "      <td>10_ Gifts and Souvenirs</td>\n",
       "      <td>NZLS184065</td>\n",
       "      <td>-24.0</td>\n",
       "      <td>-3.0</td>\n",
       "      <td>0.071429</td>\n",
       "      <td>0.142857</td>\n",
       "      <td>0.0</td>\n",
       "      <td>-21.0</td>\n",
       "      <td>NaN</td>\n",
       "      <td>NaN</td>\n",
       "    </tr>\n",
       "    <tr>\n",
       "      <th>266339</th>\n",
       "      <td>NZLS.WLG106</td>\n",
       "      <td>08_ Access and Stationery</td>\n",
       "      <td>NZLS173103</td>\n",
       "      <td>-29.0</td>\n",
       "      <td>-1.0</td>\n",
       "      <td>0.100000</td>\n",
       "      <td>0.200000</td>\n",
       "      <td>0.0</td>\n",
       "      <td>-5.0</td>\n",
       "      <td>NaN</td>\n",
       "      <td>NaN</td>\n",
       "    </tr>\n",
       "  </tbody>\n",
       "</table>\n",
       "<p>12152 rows × 11 columns</p>\n",
       "</div>"
      ],
      "text/plain": [
       "       Company and Cost Centre           Product Category         SKU  \\\n",
       "45740              AULS.ADL102                  03_ Books  AULS305379   \n",
       "45766              AULS.ADL102                  03_ Books  AULS305408   \n",
       "45787              AULS.ADL102                  03_ Books  AULS313398   \n",
       "45794              AULS.ADL102                  03_ Books  AULS313421   \n",
       "45806              AULS.ADL102                  03_ Books  AULS328354   \n",
       "...                        ...                        ...         ...   \n",
       "263340             NZLS.WLG101  08_ Access and Stationery  NZLS107122   \n",
       "263904             NZLS.WLG101    10_ Gifts and Souvenirs  NZLS171615   \n",
       "264111             NZLS.WLG101    10_ Gifts and Souvenirs  NZLS184058   \n",
       "264115             NZLS.WLG101    10_ Gifts and Souvenirs  NZLS184065   \n",
       "266339             NZLS.WLG106  08_ Access and Stationery  NZLS173103   \n",
       "\n",
       "        Stock Balance Amount  Stock Balance Qty  Ave Qty Sold - L14D  \\\n",
       "45740                   15.0                6.0             0.071429   \n",
       "45766                    5.0                2.0             0.071429   \n",
       "45787                   12.0                2.0             0.071429   \n",
       "45794                    5.0                1.0             0.071429   \n",
       "45806                    5.0                1.0             0.071429   \n",
       "...                      ...                ...                  ...   \n",
       "263340                  -5.0               -2.0             0.285714   \n",
       "263904                  -2.0               -1.0             0.071429   \n",
       "264111                  -7.0               -1.0             0.142857   \n",
       "264115                 -24.0               -3.0             0.071429   \n",
       "266339                 -29.0               -1.0             0.100000   \n",
       "\n",
       "        Ave Qty Sold - L7D  Ave Qty Sold - L3D  days of inv  Label     Score  \n",
       "45740             0.142857                 0.0         42.0    0.0 -0.131570  \n",
       "45766             0.142857                 0.0         14.0    0.0 -0.148440  \n",
       "45787             0.142857                 0.0         14.0    0.0 -0.188736  \n",
       "45794             0.142857                 0.0          7.0    0.0 -0.159240  \n",
       "45806             0.142857                 0.0          7.0    0.0 -0.159240  \n",
       "...                    ...                 ...          ...    ...       ...  \n",
       "263340            0.142857                 0.0        -14.0    NaN       NaN  \n",
       "263904            0.142857                 0.0         -7.0    NaN       NaN  \n",
       "264111            0.142857                 0.0         -7.0    NaN       NaN  \n",
       "264115            0.142857                 0.0        -21.0    NaN       NaN  \n",
       "266339            0.200000                 0.0         -5.0    NaN       NaN  \n",
       "\n",
       "[12152 rows x 11 columns]"
      ]
     },
     "execution_count": 18,
     "metadata": {},
     "output_type": "execute_result"
    }
   ],
   "source": [
    "result"
   ]
  },
  {
   "cell_type": "code",
   "execution_count": 19,
   "metadata": {
    "ExecuteTime": {
     "end_time": "2020-08-24T06:18:30.257416Z",
     "start_time": "2020-08-24T06:18:30.242479Z"
    }
   },
   "outputs": [
    {
     "data": {
      "text/plain": [
       "array(['03_ Books', '04_ Tobacco', '05_ Beverages', '06_ Confectionery',\n",
       "       '07_ Travel accessories', '08_ Access and Stationery',\n",
       "       '09_ Apparel', '10_ Gifts and Souvenirs', '11_ Cosmetics and HBA',\n",
       "       '13_ Electronics', '15_ Liquor', '16_ Art of living',\n",
       "       '18_ Fragrance'], dtype=object)"
      ]
     },
     "execution_count": 19,
     "metadata": {},
     "output_type": "execute_result"
    }
   ],
   "source": [
    "result['Product Category'].unique()"
   ]
  },
  {
   "cell_type": "code",
   "execution_count": 20,
   "metadata": {
    "ExecuteTime": {
     "end_time": "2020-08-24T06:18:30.273412Z",
     "start_time": "2020-08-24T06:18:30.260395Z"
    }
   },
   "outputs": [],
   "source": [
    "bev = result[result['Product Category'] == '11_ Cosmetics and HBA']"
   ]
  },
  {
   "cell_type": "code",
   "execution_count": 21,
   "metadata": {
    "ExecuteTime": {
     "end_time": "2020-08-24T06:18:30.289315Z",
     "start_time": "2020-08-24T06:18:30.276350Z"
    }
   },
   "outputs": [],
   "source": [
    "a = (bev['SKU'] == 'AULS512578')\n",
    "b = [not i for i in a]"
   ]
  },
  {
   "cell_type": "code",
   "execution_count": 22,
   "metadata": {
    "ExecuteTime": {
     "end_time": "2020-08-24T06:18:30.305271Z",
     "start_time": "2020-08-24T06:18:30.291336Z"
    }
   },
   "outputs": [],
   "source": [
    "k = bev[a]\n",
    "k['Label'] = 2\n",
    "bev = k.append(bev[b])"
   ]
  },
  {
   "cell_type": "code",
   "execution_count": 23,
   "metadata": {
    "ExecuteTime": {
     "end_time": "2020-08-24T06:18:30.321236Z",
     "start_time": "2020-08-24T06:18:30.310259Z"
    }
   },
   "outputs": [],
   "source": [
    "# bev = bev[bev['days of inv'] < 10000]"
   ]
  },
  {
   "cell_type": "code",
   "execution_count": 24,
   "metadata": {
    "ExecuteTime": {
     "end_time": "2020-08-24T06:18:30.597819Z",
     "start_time": "2020-08-24T06:18:30.327246Z"
    }
   },
   "outputs": [
    {
     "data": {
      "image/png": "[encoded data removed]",
      "text/plain": [
       "<Figure size 720x360 with 1 Axes>"
      ]
     },
     "metadata": {
      "needs_background": "light"
     },
     "output_type": "display_data"
    }
   ],
   "source": [
    "fig = plt.figure(figsize= (10,5))\n",
    "sns.scatterplot(x = bev['Stock Balance Amount'], y = bev['days of inv'], hue = bev['Label'])\n",
    "plt.show()"
   ]
  },
  {
   "cell_type": "code",
   "execution_count": 25,
   "metadata": {
    "ExecuteTime": {
     "end_time": "2020-08-24T06:18:30.613420Z",
     "start_time": "2020-08-24T06:18:30.600452Z"
    }
   },
   "outputs": [],
   "source": [
    "negative_value = (result['Stock Balance Amount']<0)|(result['Stock Balance Qty']<0)|(result['Ave Qty Sold - L7D']<0)\n",
    "others = [not i for i in (result['Stock Balance Amount']<0)|(result['Stock Balance Qty']<0)|(result['Ave Qty Sold - L7D']<0)]"
   ]
  },
  {
   "cell_type": "code",
   "execution_count": 26,
   "metadata": {
    "ExecuteTime": {
     "end_time": "2020-08-24T06:18:30.644815Z",
     "start_time": "2020-08-24T06:18:30.615414Z"
    }
   },
   "outputs": [],
   "source": [
    "temp = result[negative_value]\n",
    "temp['Label'] = -1\n",
    "output = temp.append(result[others])"
   ]
  },
  {
   "cell_type": "code",
   "execution_count": 27,
   "metadata": {
    "ExecuteTime": {
     "end_time": "2020-08-24T06:18:30.660774Z",
     "start_time": "2020-08-24T06:18:30.646809Z"
    }
   },
   "outputs": [],
   "source": [
    "confec = output[output['Product Category'] == '06_ Confectionery']"
   ]
  },
  {
   "cell_type": "code",
   "execution_count": 28,
   "metadata": {
    "ExecuteTime": {
     "end_time": "2020-08-24T06:18:31.017206Z",
     "start_time": "2020-08-24T06:18:30.662219Z"
    }
   },
   "outputs": [
    {
     "data": {
      "image/png": "[encoded data removed]",
      "text/plain": [
       "<Figure size 720x432 with 1 Axes>"
      ]
     },
     "metadata": {
      "needs_background": "light"
     },
     "output_type": "display_data"
    }
   ],
   "source": [
    "fig = plt.figure(figsize=(10,6))\n",
    "sns.scatterplot(x = confec['Stock Balance Amount'],y=confec['Ave Qty Sold - L7D'], hue = confec['Label'])\n",
    "plt.show()"
   ]
  },
  {
   "cell_type": "code",
   "execution_count": 29,
   "metadata": {
    "ExecuteTime": {
     "end_time": "2020-08-24T06:18:31.158030Z",
     "start_time": "2020-08-24T06:18:31.019159Z"
    }
   },
   "outputs": [],
   "source": [
    "output.to_csv('C://Users//harry.yan//Desktop//Inventory Anomaly//input//input.csv', index = False)"
   ]
  },
  {
   "cell_type": "code",
   "execution_count": null,
   "metadata": {},
   "outputs": [],
   "source": []
  },
  {
   "cell_type": "code",
   "execution_count": 30,
   "metadata": {
    "ExecuteTime": {
     "end_time": "2020-08-24T06:18:31.173461Z",
     "start_time": "2020-08-24T06:18:31.161978Z"
    },
    "code_folding": []
   },
   "outputs": [],
   "source": [
    "# # get location and item dimention from server\n",
    "# import pandas as pd\n",
    "# import numpy as np\n",
    "# import pyodbc \n",
    "# # ------------------------------------------------------------------------------\n",
    "# server = 'aupacpaassqlcomp2.81cc778a8dec.database.windows.net;' \n",
    "# database1 = 'aupacpaassqlcomp2da;' \n",
    "# database2 = 'aupacpaassqlcomp2ods;' # ReadOnly\n",
    "\n",
    "# # Connect to the server-database\n",
    "# user = 'h.yan@lagardere-traspac.com'\n",
    "\n",
    "# conn = pyodbc.connect(\"Driver={ODBC Driver 17 for SQL Server};\"\n",
    "#                       \"Server=aupacpaassqlcomp2.81cc778a8dec.database.windows.net;\"\n",
    "#                       \"Database=aupacpaassqlcomp2ods;\"\n",
    "#                       \"Authentication=ActiveDirectoryInteractive;\"\n",
    "#                       \"UID=\"+user+\";\")\n",
    "# # ============================== Data Query ====================================\n",
    "# # Specify SQL Script \n",
    "# sql_store = \"\"\"SELECT TOP (1000) [CompanyCode]\n",
    "#       ,[No]\n",
    "#       ,[Name]\n",
    "#       ,[Address]\n",
    "#       ,[Address2]\n",
    "#       ,[City]\n",
    "#       ,[PostCode]\n",
    "#       ,[PhoneNo]\n",
    "#       ,[CountryCode]\n",
    "#       ,[ResponsibilityCenter]\n",
    "#       ,[GlobalDimension1Code]\n",
    "#       ,[LocationCode]\n",
    "#       ,[LastDateModified]\n",
    "#       ,[StoreGenBusPostGr]\n",
    "#       ,[EmailAddress]\n",
    "#       ,[StoreVATBusPostGr]\n",
    "#       ,[Class]\n",
    "#       ,[LocationType]\n",
    "#       ,[PricingRange]\n",
    "#       ,[Region]\n",
    "#       ,[PreOrdersActive]\n",
    "#       ,[BoardingPassMandatory]\n",
    "#       ,[BoardingPassEditable]\n",
    "#       ,[PassportNoMandatory]\n",
    "#       ,[EnableGIVEX]\n",
    "#       ,[DisableEFTSurcharge]\n",
    "#       ,[SurchargeTender]\n",
    "#       ,[LastUpdateDateTime]\n",
    "#   FROM [aupacpaassqlcomp2ods].[dbo].[vw_t_Store]\"\"\" \n",
    "# sql_item = \"\"\"SELECT [CompanyCode]\n",
    "#       ,[No]\n",
    "#       ,[Description]\n",
    "#       ,[DivisionCode]\n",
    "#       ,[ItemCategoryCode]\n",
    "#       ,[ProductGroupCode]\n",
    "#       ,[SubGroup]\n",
    "#       ,[InventoryPostingGroup]\n",
    "#       ,[GenProdPostingGroup]\n",
    "#       ,[VendorNo]\n",
    "#   FROM [aupacpaassqlcomp2ods].[dbo].[vw_t_Item]\"\"\"\n",
    "\n",
    "# # Execute SQL script and parse the data into a DataFrame\n",
    "# store_info = pd.read_sql(sql_store,conn)\n",
    "# item_info = pd.read_sql(sql_item,conn)"
   ]
  },
  {
   "cell_type": "code",
   "execution_count": 31,
   "metadata": {
    "ExecuteTime": {
     "end_time": "2020-08-24T06:18:31.189249Z",
     "start_time": "2020-08-24T06:18:31.175456Z"
    }
   },
   "outputs": [],
   "source": [
    "# store_info = store_info[['CompanyCode','No','City','CountryCode','Region']]\n",
    "# store_info['Company and Cost Centre'] = store_info['CompanyCode'] + \".\" + store_info['No']\n",
    "# store_info.to_csv('C://Users//harry.yan//Desktop//Inventory Anomaly//input//store_dim.csv', index = False)"
   ]
  },
  {
   "cell_type": "code",
   "execution_count": null,
   "metadata": {},
   "outputs": [],
   "source": []
  },
  {
   "cell_type": "code",
   "execution_count": 32,
   "metadata": {
    "ExecuteTime": {
     "end_time": "2020-08-24T06:18:31.407658Z",
     "start_time": "2020-08-24T06:18:31.193234Z"
    }
   },
   "outputs": [],
   "source": [
    "df_inve[['Company and Cost Centre','Cluster','City']].drop_duplicates().to_csv('C://Users//harry.yan//Desktop//Inventory Anomaly//input//store_dim.csv', index = False)"
   ]
  },
  {
   "cell_type": "code",
   "execution_count": null,
   "metadata": {},
   "outputs": [],
   "source": []
  },
  {
   "cell_type": "code",
   "execution_count": 33,
   "metadata": {
    "ExecuteTime": {
     "end_time": "2020-08-24T06:18:31.612364Z",
     "start_time": "2020-08-24T06:18:31.409656Z"
    }
   },
   "outputs": [
    {
     "ename": "NameError",
     "evalue": "name 'item_info' is not defined",
     "output_type": "error",
     "traceback": [
      "\u001b[1;31m---------------------------------------------------------------------------\u001b[0m",
      "\u001b[1;31mNameError\u001b[0m                                 Traceback (most recent call last)",
      "\u001b[1;32m<ipython-input-33-b5e0f6c9efe8>\u001b[0m in \u001b[0;36m<module>\u001b[1;34m\u001b[0m\n\u001b[1;32m----> 1\u001b[1;33m \u001b[0mitem_info\u001b[0m \u001b[1;33m=\u001b[0m \u001b[0mitem_info\u001b[0m\u001b[1;33m[\u001b[0m\u001b[1;33m[\u001b[0m\u001b[1;34m'CompanyCode'\u001b[0m\u001b[1;33m,\u001b[0m\u001b[1;34m'No'\u001b[0m\u001b[1;33m,\u001b[0m\u001b[1;34m'Description'\u001b[0m\u001b[1;33m,\u001b[0m\u001b[1;34m'ProductGroupCode'\u001b[0m\u001b[1;33m]\u001b[0m\u001b[1;33m]\u001b[0m\u001b[1;33m\u001b[0m\u001b[1;33m\u001b[0m\u001b[0m\n\u001b[0m",
      "\u001b[1;31mNameError\u001b[0m: name 'item_info' is not defined"
     ]
    }
   ],
   "source": [
    "# item_info = item_info[['CompanyCode','No','Description','ProductGroupCode']]"
   ]
  },
  {
   "cell_type": "code",
   "execution_count": null,
   "metadata": {
    "ExecuteTime": {
     "end_time": "2020-08-24T06:18:31.616264Z",
     "start_time": "2020-08-24T06:18:13.257Z"
    }
   },
   "outputs": [],
   "source": [
    "# item_info['SKU'] = item_info['CompanyCode'] +  item_info['No']"
   ]
  },
  {
   "cell_type": "code",
   "execution_count": 34,
   "metadata": {
    "ExecuteTime": {
     "end_time": "2020-08-24T06:19:00.197832Z",
     "start_time": "2020-08-24T06:19:00.044220Z"
    }
   },
   "outputs": [
    {
     "ename": "NameError",
     "evalue": "name 'item_info' is not defined",
     "output_type": "error",
     "traceback": [
      "\u001b[1;31m---------------------------------------------------------------------------\u001b[0m",
      "\u001b[1;31mNameError\u001b[0m                                 Traceback (most recent call last)",
      "\u001b[1;32m<ipython-input-34-1f1885e05372>\u001b[0m in \u001b[0;36m<module>\u001b[1;34m\u001b[0m\n\u001b[1;32m----> 1\u001b[1;33m \u001b[0mitem_dim\u001b[0m \u001b[1;33m=\u001b[0m \u001b[0mpd\u001b[0m\u001b[1;33m.\u001b[0m\u001b[0mDataFrame\u001b[0m\u001b[1;33m(\u001b[0m\u001b[0moutput\u001b[0m\u001b[1;33m.\u001b[0m\u001b[0mapply\u001b[0m\u001b[1;33m(\u001b[0m\u001b[1;32mlambda\u001b[0m \u001b[0mx\u001b[0m\u001b[1;33m:\u001b[0m \u001b[0mx\u001b[0m\u001b[1;33m[\u001b[0m\u001b[1;34m'SKU'\u001b[0m\u001b[1;33m]\u001b[0m\u001b[1;33m.\u001b[0m\u001b[0msplit\u001b[0m\u001b[1;33m(\u001b[0m\u001b[1;34m'-'\u001b[0m\u001b[1;33m)\u001b[0m\u001b[1;33m[\u001b[0m\u001b[1;36m0\u001b[0m\u001b[1;33m]\u001b[0m\u001b[1;33m,\u001b[0m \u001b[0maxis\u001b[0m \u001b[1;33m=\u001b[0m\u001b[1;36m1\u001b[0m\u001b[1;33m)\u001b[0m\u001b[1;33m,\u001b[0m \u001b[0mcolumns\u001b[0m\u001b[1;33m=\u001b[0m\u001b[1;33m[\u001b[0m\u001b[1;34m'SKU'\u001b[0m\u001b[1;33m]\u001b[0m\u001b[1;33m)\u001b[0m\u001b[1;33m.\u001b[0m\u001b[0mmerge\u001b[0m\u001b[1;33m(\u001b[0m\u001b[0mitem_info\u001b[0m\u001b[1;33m,\u001b[0m\u001b[0mon\u001b[0m\u001b[1;33m=\u001b[0m\u001b[1;34m'SKU'\u001b[0m\u001b[1;33m,\u001b[0m\u001b[0mhow\u001b[0m\u001b[1;33m=\u001b[0m\u001b[1;34m'left'\u001b[0m\u001b[1;33m)\u001b[0m\u001b[1;33m\u001b[0m\u001b[1;33m\u001b[0m\u001b[0m\n\u001b[0m",
      "\u001b[1;31mNameError\u001b[0m: name 'item_info' is not defined"
     ]
    }
   ],
   "source": [
    "# item_dim = pd.DataFrame(output.apply(lambda x: x['SKU'].split('-')[0], axis =1), columns=['SKU']).merge(item_info,on='SKU',how='left')"
   ]
  },
  {
   "cell_type": "code",
   "execution_count": null,
   "metadata": {
    "ExecuteTime": {
     "end_time": "2020-08-24T06:18:31.619255Z",
     "start_time": "2020-08-24T06:18:13.260Z"
    }
   },
   "outputs": [],
   "source": [
    "# item_dim['SKU'] =list(output['SKU'])"
   ]
  },
  {
   "cell_type": "code",
   "execution_count": null,
   "metadata": {
    "ExecuteTime": {
     "end_time": "2020-08-24T06:18:31.621250Z",
     "start_time": "2020-08-24T06:18:13.262Z"
    }
   },
   "outputs": [],
   "source": [
    "# item_dim.drop_duplicates().to_csv('C://Users//harry.yan//Desktop//Inventory Anomaly//input//item_dim.csv', index = False)"
   ]
  },
  {
   "cell_type": "code",
   "execution_count": null,
   "metadata": {},
   "outputs": [],
   "source": []
  },
  {
   "cell_type": "code",
   "execution_count": 35,
   "metadata": {
    "ExecuteTime": {
     "end_time": "2020-08-24T06:19:12.698193Z",
     "start_time": "2020-08-24T06:19:12.365236Z"
    }
   },
   "outputs": [],
   "source": [
    "result['Unit Cost'] = result.apply(lambda x: x['Stock Balance Amount'] / x['Stock Balance Qty'] if x['Stock Balance Qty'] !=0 else 0, axis = 1)"
   ]
  },
  {
   "cell_type": "code",
   "execution_count": 36,
   "metadata": {
    "ExecuteTime": {
     "end_time": "2020-08-24T06:19:13.676264Z",
     "start_time": "2020-08-24T06:19:13.661845Z"
    }
   },
   "outputs": [],
   "source": [
    "result['Ave Cogs - L7D'] = result['Unit Cost'] * result['Ave Qty Sold - L7D']"
   ]
  },
  {
   "cell_type": "code",
   "execution_count": 37,
   "metadata": {
    "ExecuteTime": {
     "end_time": "2020-08-24T06:19:14.242032Z",
     "start_time": "2020-08-24T06:19:14.207139Z"
    }
   },
   "outputs": [],
   "source": [
    "store_rlt = result.groupby(['Company and Cost Centre','Product Category']).sum().reset_index()[['Company and Cost Centre','Product Category','Stock Balance Amount','Ave Cogs - L7D']]"
   ]
  },
  {
   "cell_type": "code",
   "execution_count": 38,
   "metadata": {
    "ExecuteTime": {
     "end_time": "2020-08-24T06:19:15.440209Z",
     "start_time": "2020-08-24T06:19:15.430279Z"
    }
   },
   "outputs": [],
   "source": [
    "store_rlt['days of inv'] = store_rlt['Stock Balance Amount'] / store_rlt['Ave Cogs - L7D']"
   ]
  },
  {
   "cell_type": "code",
   "execution_count": 39,
   "metadata": {
    "ExecuteTime": {
     "end_time": "2020-08-24T06:19:16.099503Z",
     "start_time": "2020-08-24T06:19:16.085531Z"
    }
   },
   "outputs": [],
   "source": [
    "bev = store_rlt[store_rlt['Product Category'] == '05_ Beverages']"
   ]
  },
  {
   "cell_type": "code",
   "execution_count": 40,
   "metadata": {
    "ExecuteTime": {
     "end_time": "2020-08-24T06:19:16.509152Z",
     "start_time": "2020-08-24T06:19:16.487201Z"
    }
   },
   "outputs": [
    {
     "data": {
      "text/html": [
       "<div>\n",
       "<style scoped>\n",
       "    .dataframe tbody tr th:only-of-type {\n",
       "        vertical-align: middle;\n",
       "    }\n",
       "\n",
       "    .dataframe tbody tr th {\n",
       "        vertical-align: top;\n",
       "    }\n",
       "\n",
       "    .dataframe thead th {\n",
       "        text-align: right;\n",
       "    }\n",
       "</style>\n",
       "<table border=\"1\" class=\"dataframe\">\n",
       "  <thead>\n",
       "    <tr style=\"text-align: right;\">\n",
       "      <th></th>\n",
       "      <th>Company and Cost Centre</th>\n",
       "      <th>Product Category</th>\n",
       "      <th>Stock Balance Amount</th>\n",
       "      <th>Ave Cogs - L7D</th>\n",
       "      <th>days of inv</th>\n",
       "    </tr>\n",
       "  </thead>\n",
       "  <tbody>\n",
       "    <tr>\n",
       "      <th>0</th>\n",
       "      <td>AUDF.SYD210</td>\n",
       "      <td>11_ Cosmetics and HBA</td>\n",
       "      <td>61496.0</td>\n",
       "      <td>1051.532408</td>\n",
       "      <td>58.482268</td>\n",
       "    </tr>\n",
       "    <tr>\n",
       "      <th>1</th>\n",
       "      <td>AUDF.SYD210</td>\n",
       "      <td>18_ Fragrance</td>\n",
       "      <td>22627.0</td>\n",
       "      <td>690.293004</td>\n",
       "      <td>32.778834</td>\n",
       "    </tr>\n",
       "    <tr>\n",
       "      <th>2</th>\n",
       "      <td>AUDF.SYD309</td>\n",
       "      <td>11_ Cosmetics and HBA</td>\n",
       "      <td>19974.0</td>\n",
       "      <td>163.969967</td>\n",
       "      <td>121.814990</td>\n",
       "    </tr>\n",
       "    <tr>\n",
       "      <th>3</th>\n",
       "      <td>AULS.ADL102</td>\n",
       "      <td>03_ Books</td>\n",
       "      <td>8826.0</td>\n",
       "      <td>286.278355</td>\n",
       "      <td>30.830134</td>\n",
       "    </tr>\n",
       "    <tr>\n",
       "      <th>4</th>\n",
       "      <td>AULS.ADL102</td>\n",
       "      <td>04_ Tobacco</td>\n",
       "      <td>4277.0</td>\n",
       "      <td>71.209825</td>\n",
       "      <td>60.061936</td>\n",
       "    </tr>\n",
       "    <tr>\n",
       "      <th>...</th>\n",
       "      <td>...</td>\n",
       "      <td>...</td>\n",
       "      <td>...</td>\n",
       "      <td>...</td>\n",
       "      <td>...</td>\n",
       "    </tr>\n",
       "    <tr>\n",
       "      <th>328</th>\n",
       "      <td>NZLS.WLG103</td>\n",
       "      <td>10_ Gifts and Souvenirs</td>\n",
       "      <td>9.0</td>\n",
       "      <td>0.409091</td>\n",
       "      <td>22.000000</td>\n",
       "    </tr>\n",
       "    <tr>\n",
       "      <th>329</th>\n",
       "      <td>NZLS.WLG103</td>\n",
       "      <td>11_ Cosmetics and HBA</td>\n",
       "      <td>79.0</td>\n",
       "      <td>6.928571</td>\n",
       "      <td>11.402062</td>\n",
       "    </tr>\n",
       "    <tr>\n",
       "      <th>330</th>\n",
       "      <td>NZLS.WLG106</td>\n",
       "      <td>07_ Travel accessories</td>\n",
       "      <td>302.0</td>\n",
       "      <td>32.300000</td>\n",
       "      <td>9.349845</td>\n",
       "    </tr>\n",
       "    <tr>\n",
       "      <th>331</th>\n",
       "      <td>NZLS.WLG106</td>\n",
       "      <td>08_ Access and Stationery</td>\n",
       "      <td>6394.0</td>\n",
       "      <td>230.018763</td>\n",
       "      <td>27.797732</td>\n",
       "    </tr>\n",
       "    <tr>\n",
       "      <th>332</th>\n",
       "      <td>NZLS.WLG106</td>\n",
       "      <td>09_ Apparel</td>\n",
       "      <td>39.0</td>\n",
       "      <td>7.800000</td>\n",
       "      <td>5.000000</td>\n",
       "    </tr>\n",
       "  </tbody>\n",
       "</table>\n",
       "<p>333 rows × 5 columns</p>\n",
       "</div>"
      ],
      "text/plain": [
       "    Company and Cost Centre           Product Category  Stock Balance Amount  \\\n",
       "0               AUDF.SYD210      11_ Cosmetics and HBA               61496.0   \n",
       "1               AUDF.SYD210              18_ Fragrance               22627.0   \n",
       "2               AUDF.SYD309      11_ Cosmetics and HBA               19974.0   \n",
       "3               AULS.ADL102                  03_ Books                8826.0   \n",
       "4               AULS.ADL102                04_ Tobacco                4277.0   \n",
       "..                      ...                        ...                   ...   \n",
       "328             NZLS.WLG103    10_ Gifts and Souvenirs                   9.0   \n",
       "329             NZLS.WLG103      11_ Cosmetics and HBA                  79.0   \n",
       "330             NZLS.WLG106     07_ Travel accessories                 302.0   \n",
       "331             NZLS.WLG106  08_ Access and Stationery                6394.0   \n",
       "332             NZLS.WLG106                09_ Apparel                  39.0   \n",
       "\n",
       "     Ave Cogs - L7D  days of inv  \n",
       "0       1051.532408    58.482268  \n",
       "1        690.293004    32.778834  \n",
       "2        163.969967   121.814990  \n",
       "3        286.278355    30.830134  \n",
       "4         71.209825    60.061936  \n",
       "..              ...          ...  \n",
       "328        0.409091    22.000000  \n",
       "329        6.928571    11.402062  \n",
       "330       32.300000     9.349845  \n",
       "331      230.018763    27.797732  \n",
       "332        7.800000     5.000000  \n",
       "\n",
       "[333 rows x 5 columns]"
      ]
     },
     "execution_count": 40,
     "metadata": {},
     "output_type": "execute_result"
    }
   ],
   "source": [
    "store_rlt"
   ]
  },
  {
   "cell_type": "code",
   "execution_count": null,
   "metadata": {},
   "outputs": [],
   "source": []
  },
  {
   "cell_type": "code",
   "execution_count": null,
   "metadata": {},
   "outputs": [],
   "source": []
  },
  {
   "cell_type": "code",
   "execution_count": 41,
   "metadata": {
    "ExecuteTime": {
     "end_time": "2020-08-24T06:19:19.283830Z",
     "start_time": "2020-08-24T06:19:19.263325Z"
    }
   },
   "outputs": [],
   "source": [
    "def iforest_2(df):\n",
    "    exp = setup(df[['days of inv', 'Stock Balance Amount']], silent = True, normalize = True)    \n",
    "    knn = create_model(model = 'iforest', fraction = 0.2, verbose=False)\n",
    "    result = predict_model(knn, data=df)\n",
    "    return result"
   ]
  },
  {
   "cell_type": "code",
   "execution_count": 42,
   "metadata": {
    "ExecuteTime": {
     "end_time": "2020-08-24T06:19:20.463276Z",
     "start_time": "2020-08-24T06:19:19.927715Z"
    }
   },
   "outputs": [
    {
     "data": {
      "image/png": "[encoded data removed]",
      "text/plain": [
       "<Figure size 720x432 with 1 Axes>"
      ]
     },
     "metadata": {
      "needs_background": "light"
     },
     "output_type": "display_data"
    }
   ],
   "source": [
    "fig = plt.figure(figsize=  (10,6))\n",
    "sns.scatterplot(x=bev['Stock Balance Amount'],y=bev['days of inv'],hue=iforest_2(bev)['Label'])\n",
    "plt.show()"
   ]
  },
  {
   "cell_type": "code",
   "execution_count": 43,
   "metadata": {
    "ExecuteTime": {
     "end_time": "2020-08-24T06:19:23.064399Z",
     "start_time": "2020-08-24T06:19:22.686805Z"
    }
   },
   "outputs": [
    {
     "data": {
      "text/html": [
       "<div>\n",
       "<style scoped>\n",
       "    .dataframe tbody tr th:only-of-type {\n",
       "        vertical-align: middle;\n",
       "    }\n",
       "\n",
       "    .dataframe tbody tr th {\n",
       "        vertical-align: top;\n",
       "    }\n",
       "\n",
       "    .dataframe thead th {\n",
       "        text-align: right;\n",
       "    }\n",
       "</style>\n",
       "<table border=\"1\" class=\"dataframe\">\n",
       "  <thead>\n",
       "    <tr style=\"text-align: right;\">\n",
       "      <th></th>\n",
       "      <th>Company and Cost Centre</th>\n",
       "      <th>Product Category</th>\n",
       "      <th>Stock Balance Amount</th>\n",
       "      <th>Ave Cogs - L7D</th>\n",
       "      <th>days of inv</th>\n",
       "      <th>Label</th>\n",
       "      <th>Score</th>\n",
       "    </tr>\n",
       "  </thead>\n",
       "  <tbody>\n",
       "    <tr>\n",
       "      <th>5</th>\n",
       "      <td>AULS.ADL102</td>\n",
       "      <td>05_ Beverages</td>\n",
       "      <td>3041.0</td>\n",
       "      <td>220.767136</td>\n",
       "      <td>13.774695</td>\n",
       "      <td>0</td>\n",
       "      <td>-0.056619</td>\n",
       "    </tr>\n",
       "    <tr>\n",
       "      <th>13</th>\n",
       "      <td>AULS.ADL103</td>\n",
       "      <td>05_ Beverages</td>\n",
       "      <td>167.0</td>\n",
       "      <td>7.448428</td>\n",
       "      <td>22.420838</td>\n",
       "      <td>0</td>\n",
       "      <td>-0.073065</td>\n",
       "    </tr>\n",
       "    <tr>\n",
       "      <th>22</th>\n",
       "      <td>AULS.BNK101</td>\n",
       "      <td>05_ Beverages</td>\n",
       "      <td>2460.0</td>\n",
       "      <td>53.587338</td>\n",
       "      <td>45.906367</td>\n",
       "      <td>0</td>\n",
       "      <td>-0.097915</td>\n",
       "    </tr>\n",
       "    <tr>\n",
       "      <th>31</th>\n",
       "      <td>AULS.CNS201</td>\n",
       "      <td>05_ Beverages</td>\n",
       "      <td>3546.0</td>\n",
       "      <td>185.088802</td>\n",
       "      <td>19.158371</td>\n",
       "      <td>0</td>\n",
       "      <td>-0.104475</td>\n",
       "    </tr>\n",
       "    <tr>\n",
       "      <th>50</th>\n",
       "      <td>AULS.KTA101</td>\n",
       "      <td>05_ Beverages</td>\n",
       "      <td>4287.0</td>\n",
       "      <td>72.179483</td>\n",
       "      <td>59.393609</td>\n",
       "      <td>0</td>\n",
       "      <td>-0.018785</td>\n",
       "    </tr>\n",
       "    <tr>\n",
       "      <th>57</th>\n",
       "      <td>AULS.KTA103</td>\n",
       "      <td>05_ Beverages</td>\n",
       "      <td>1405.0</td>\n",
       "      <td>64.101947</td>\n",
       "      <td>21.918211</td>\n",
       "      <td>0</td>\n",
       "      <td>-0.114498</td>\n",
       "    </tr>\n",
       "    <tr>\n",
       "      <th>61</th>\n",
       "      <td>AULS.LST101</td>\n",
       "      <td>05_ Beverages</td>\n",
       "      <td>692.0</td>\n",
       "      <td>23.509577</td>\n",
       "      <td>29.434813</td>\n",
       "      <td>0</td>\n",
       "      <td>-0.112517</td>\n",
       "    </tr>\n",
       "    <tr>\n",
       "      <th>70</th>\n",
       "      <td>AULS.OOL101</td>\n",
       "      <td>05_ Beverages</td>\n",
       "      <td>2400.0</td>\n",
       "      <td>25.991403</td>\n",
       "      <td>92.338225</td>\n",
       "      <td>0</td>\n",
       "      <td>-0.015354</td>\n",
       "    </tr>\n",
       "    <tr>\n",
       "      <th>80</th>\n",
       "      <td>AULS.PER201</td>\n",
       "      <td>05_ Beverages</td>\n",
       "      <td>10524.0</td>\n",
       "      <td>523.239842</td>\n",
       "      <td>20.113147</td>\n",
       "      <td>1</td>\n",
       "      <td>0.194092</td>\n",
       "    </tr>\n",
       "    <tr>\n",
       "      <th>89</th>\n",
       "      <td>AULS.PER301</td>\n",
       "      <td>05_ Beverages</td>\n",
       "      <td>3922.0</td>\n",
       "      <td>84.082157</td>\n",
       "      <td>46.644855</td>\n",
       "      <td>0</td>\n",
       "      <td>-0.073885</td>\n",
       "    </tr>\n",
       "    <tr>\n",
       "      <th>98</th>\n",
       "      <td>AULS.PER302</td>\n",
       "      <td>05_ Beverages</td>\n",
       "      <td>3274.0</td>\n",
       "      <td>197.794178</td>\n",
       "      <td>16.552560</td>\n",
       "      <td>0</td>\n",
       "      <td>-0.095810</td>\n",
       "    </tr>\n",
       "    <tr>\n",
       "      <th>107</th>\n",
       "      <td>AULS.SYD201</td>\n",
       "      <td>05_ Beverages</td>\n",
       "      <td>3620.0</td>\n",
       "      <td>54.960831</td>\n",
       "      <td>65.865089</td>\n",
       "      <td>0</td>\n",
       "      <td>-0.033112</td>\n",
       "    </tr>\n",
       "    <tr>\n",
       "      <th>116</th>\n",
       "      <td>AULS.SYD203</td>\n",
       "      <td>05_ Beverages</td>\n",
       "      <td>2643.0</td>\n",
       "      <td>28.511920</td>\n",
       "      <td>92.698072</td>\n",
       "      <td>0</td>\n",
       "      <td>-0.006432</td>\n",
       "    </tr>\n",
       "    <tr>\n",
       "      <th>123</th>\n",
       "      <td>AULS.SYD208</td>\n",
       "      <td>05_ Beverages</td>\n",
       "      <td>-2.0</td>\n",
       "      <td>2.000000</td>\n",
       "      <td>-1.000000</td>\n",
       "      <td>1</td>\n",
       "      <td>0.045768</td>\n",
       "    </tr>\n",
       "    <tr>\n",
       "      <th>128</th>\n",
       "      <td>AULS.SYD215</td>\n",
       "      <td>05_ Beverages</td>\n",
       "      <td>900.0</td>\n",
       "      <td>19.848159</td>\n",
       "      <td>45.344255</td>\n",
       "      <td>0</td>\n",
       "      <td>-0.069771</td>\n",
       "    </tr>\n",
       "    <tr>\n",
       "      <th>138</th>\n",
       "      <td>AULS.SYD301</td>\n",
       "      <td>05_ Beverages</td>\n",
       "      <td>2322.0</td>\n",
       "      <td>22.124274</td>\n",
       "      <td>104.952595</td>\n",
       "      <td>1</td>\n",
       "      <td>0.051615</td>\n",
       "    </tr>\n",
       "    <tr>\n",
       "      <th>146</th>\n",
       "      <td>AULS.SYD302</td>\n",
       "      <td>05_ Beverages</td>\n",
       "      <td>710.0</td>\n",
       "      <td>23.773254</td>\n",
       "      <td>29.865494</td>\n",
       "      <td>0</td>\n",
       "      <td>-0.114158</td>\n",
       "    </tr>\n",
       "    <tr>\n",
       "      <th>152</th>\n",
       "      <td>AULS.SYD305</td>\n",
       "      <td>05_ Beverages</td>\n",
       "      <td>196.0</td>\n",
       "      <td>2.744473</td>\n",
       "      <td>71.416266</td>\n",
       "      <td>1</td>\n",
       "      <td>0.027125</td>\n",
       "    </tr>\n",
       "    <tr>\n",
       "      <th>162</th>\n",
       "      <td>AULS.SYD604</td>\n",
       "      <td>05_ Beverages</td>\n",
       "      <td>310.0</td>\n",
       "      <td>2.333333</td>\n",
       "      <td>132.857143</td>\n",
       "      <td>1</td>\n",
       "      <td>0.167669</td>\n",
       "    </tr>\n",
       "    <tr>\n",
       "      <th>170</th>\n",
       "      <td>AULS.SYD901</td>\n",
       "      <td>05_ Beverages</td>\n",
       "      <td>6468.0</td>\n",
       "      <td>123.220679</td>\n",
       "      <td>52.491190</td>\n",
       "      <td>1</td>\n",
       "      <td>0.079311</td>\n",
       "    </tr>\n",
       "    <tr>\n",
       "      <th>176</th>\n",
       "      <td>AULS.SYD903</td>\n",
       "      <td>05_ Beverages</td>\n",
       "      <td>2781.0</td>\n",
       "      <td>76.649677</td>\n",
       "      <td>36.281953</td>\n",
       "      <td>0</td>\n",
       "      <td>-0.108492</td>\n",
       "    </tr>\n",
       "    <tr>\n",
       "      <th>182</th>\n",
       "      <td>AULS.SYD909</td>\n",
       "      <td>05_ Beverages</td>\n",
       "      <td>2879.0</td>\n",
       "      <td>49.029047</td>\n",
       "      <td>58.720293</td>\n",
       "      <td>0</td>\n",
       "      <td>-0.068483</td>\n",
       "    </tr>\n",
       "    <tr>\n",
       "      <th>188</th>\n",
       "      <td>AULS.SYD912</td>\n",
       "      <td>05_ Beverages</td>\n",
       "      <td>3413.0</td>\n",
       "      <td>152.985599</td>\n",
       "      <td>22.309289</td>\n",
       "      <td>0</td>\n",
       "      <td>-0.121011</td>\n",
       "    </tr>\n",
       "    <tr>\n",
       "      <th>195</th>\n",
       "      <td>AULS.SYD913</td>\n",
       "      <td>05_ Beverages</td>\n",
       "      <td>7733.0</td>\n",
       "      <td>80.126791</td>\n",
       "      <td>96.509544</td>\n",
       "      <td>1</td>\n",
       "      <td>0.166237</td>\n",
       "    </tr>\n",
       "    <tr>\n",
       "      <th>202</th>\n",
       "      <td>AULS.TSV101</td>\n",
       "      <td>05_ Beverages</td>\n",
       "      <td>3798.0</td>\n",
       "      <td>119.907095</td>\n",
       "      <td>31.674523</td>\n",
       "      <td>0</td>\n",
       "      <td>-0.093320</td>\n",
       "    </tr>\n",
       "    <tr>\n",
       "      <th>222</th>\n",
       "      <td>NZLS.AKL103</td>\n",
       "      <td>05_ Beverages</td>\n",
       "      <td>1495.0</td>\n",
       "      <td>77.498249</td>\n",
       "      <td>19.290759</td>\n",
       "      <td>0</td>\n",
       "      <td>-0.105012</td>\n",
       "    </tr>\n",
       "    <tr>\n",
       "      <th>231</th>\n",
       "      <td>NZLS.AKL201</td>\n",
       "      <td>05_ Beverages</td>\n",
       "      <td>2934.0</td>\n",
       "      <td>166.422880</td>\n",
       "      <td>17.629787</td>\n",
       "      <td>0</td>\n",
       "      <td>-0.108675</td>\n",
       "    </tr>\n",
       "    <tr>\n",
       "      <th>240</th>\n",
       "      <td>NZLS.AKL202</td>\n",
       "      <td>05_ Beverages</td>\n",
       "      <td>804.0</td>\n",
       "      <td>154.388268</td>\n",
       "      <td>5.207650</td>\n",
       "      <td>0</td>\n",
       "      <td>-0.017752</td>\n",
       "    </tr>\n",
       "    <tr>\n",
       "      <th>248</th>\n",
       "      <td>NZLS.CHC101</td>\n",
       "      <td>05_ Beverages</td>\n",
       "      <td>3530.0</td>\n",
       "      <td>90.078594</td>\n",
       "      <td>39.188001</td>\n",
       "      <td>0</td>\n",
       "      <td>-0.099304</td>\n",
       "    </tr>\n",
       "    <tr>\n",
       "      <th>257</th>\n",
       "      <td>NZLS.CHC103</td>\n",
       "      <td>05_ Beverages</td>\n",
       "      <td>2070.0</td>\n",
       "      <td>89.699801</td>\n",
       "      <td>23.076974</td>\n",
       "      <td>0</td>\n",
       "      <td>-0.108789</td>\n",
       "    </tr>\n",
       "    <tr>\n",
       "      <th>264</th>\n",
       "      <td>NZLS.CHC105</td>\n",
       "      <td>05_ Beverages</td>\n",
       "      <td>70.0</td>\n",
       "      <td>25.437470</td>\n",
       "      <td>2.751846</td>\n",
       "      <td>1</td>\n",
       "      <td>0.004288</td>\n",
       "    </tr>\n",
       "    <tr>\n",
       "      <th>270</th>\n",
       "      <td>NZLS.CHC106</td>\n",
       "      <td>05_ Beverages</td>\n",
       "      <td>3614.0</td>\n",
       "      <td>146.311891</td>\n",
       "      <td>24.700658</td>\n",
       "      <td>0</td>\n",
       "      <td>-0.112955</td>\n",
       "    </tr>\n",
       "    <tr>\n",
       "      <th>283</th>\n",
       "      <td>NZLS.DUD106</td>\n",
       "      <td>05_ Beverages</td>\n",
       "      <td>2238.0</td>\n",
       "      <td>64.647745</td>\n",
       "      <td>34.618377</td>\n",
       "      <td>0</td>\n",
       "      <td>-0.105894</td>\n",
       "    </tr>\n",
       "    <tr>\n",
       "      <th>291</th>\n",
       "      <td>NZLS.NSN101</td>\n",
       "      <td>05_ Beverages</td>\n",
       "      <td>1882.0</td>\n",
       "      <td>33.877534</td>\n",
       "      <td>55.553040</td>\n",
       "      <td>0</td>\n",
       "      <td>-0.054039</td>\n",
       "    </tr>\n",
       "    <tr>\n",
       "      <th>300</th>\n",
       "      <td>NZLS.PMR101</td>\n",
       "      <td>05_ Beverages</td>\n",
       "      <td>606.0</td>\n",
       "      <td>18.791898</td>\n",
       "      <td>32.247939</td>\n",
       "      <td>0</td>\n",
       "      <td>-0.102172</td>\n",
       "    </tr>\n",
       "    <tr>\n",
       "      <th>308</th>\n",
       "      <td>NZLS.ROT101</td>\n",
       "      <td>05_ Beverages</td>\n",
       "      <td>622.0</td>\n",
       "      <td>11.766268</td>\n",
       "      <td>52.862982</td>\n",
       "      <td>0</td>\n",
       "      <td>-0.060492</td>\n",
       "    </tr>\n",
       "    <tr>\n",
       "      <th>317</th>\n",
       "      <td>NZLS.WLG101</td>\n",
       "      <td>05_ Beverages</td>\n",
       "      <td>4265.0</td>\n",
       "      <td>176.326834</td>\n",
       "      <td>24.188037</td>\n",
       "      <td>0</td>\n",
       "      <td>-0.063302</td>\n",
       "    </tr>\n",
       "    <tr>\n",
       "      <th>325</th>\n",
       "      <td>NZLS.WLG103</td>\n",
       "      <td>05_ Beverages</td>\n",
       "      <td>405.0</td>\n",
       "      <td>27.769447</td>\n",
       "      <td>14.584374</td>\n",
       "      <td>0</td>\n",
       "      <td>-0.071144</td>\n",
       "    </tr>\n",
       "  </tbody>\n",
       "</table>\n",
       "</div>"
      ],
      "text/plain": [
       "    Company and Cost Centre Product Category  Stock Balance Amount  \\\n",
       "5               AULS.ADL102    05_ Beverages                3041.0   \n",
       "13              AULS.ADL103    05_ Beverages                 167.0   \n",
       "22              AULS.BNK101    05_ Beverages                2460.0   \n",
       "31              AULS.CNS201    05_ Beverages                3546.0   \n",
       "50              AULS.KTA101    05_ Beverages                4287.0   \n",
       "57              AULS.KTA103    05_ Beverages                1405.0   \n",
       "61              AULS.LST101    05_ Beverages                 692.0   \n",
       "70              AULS.OOL101    05_ Beverages                2400.0   \n",
       "80              AULS.PER201    05_ Beverages               10524.0   \n",
       "89              AULS.PER301    05_ Beverages                3922.0   \n",
       "98              AULS.PER302    05_ Beverages                3274.0   \n",
       "107             AULS.SYD201    05_ Beverages                3620.0   \n",
       "116             AULS.SYD203    05_ Beverages                2643.0   \n",
       "123             AULS.SYD208    05_ Beverages                  -2.0   \n",
       "128             AULS.SYD215    05_ Beverages                 900.0   \n",
       "138             AULS.SYD301    05_ Beverages                2322.0   \n",
       "146             AULS.SYD302    05_ Beverages                 710.0   \n",
       "152             AULS.SYD305    05_ Beverages                 196.0   \n",
       "162             AULS.SYD604    05_ Beverages                 310.0   \n",
       "170             AULS.SYD901    05_ Beverages                6468.0   \n",
       "176             AULS.SYD903    05_ Beverages                2781.0   \n",
       "182             AULS.SYD909    05_ Beverages                2879.0   \n",
       "188             AULS.SYD912    05_ Beverages                3413.0   \n",
       "195             AULS.SYD913    05_ Beverages                7733.0   \n",
       "202             AULS.TSV101    05_ Beverages                3798.0   \n",
       "222             NZLS.AKL103    05_ Beverages                1495.0   \n",
       "231             NZLS.AKL201    05_ Beverages                2934.0   \n",
       "240             NZLS.AKL202    05_ Beverages                 804.0   \n",
       "248             NZLS.CHC101    05_ Beverages                3530.0   \n",
       "257             NZLS.CHC103    05_ Beverages                2070.0   \n",
       "264             NZLS.CHC105    05_ Beverages                  70.0   \n",
       "270             NZLS.CHC106    05_ Beverages                3614.0   \n",
       "283             NZLS.DUD106    05_ Beverages                2238.0   \n",
       "291             NZLS.NSN101    05_ Beverages                1882.0   \n",
       "300             NZLS.PMR101    05_ Beverages                 606.0   \n",
       "308             NZLS.ROT101    05_ Beverages                 622.0   \n",
       "317             NZLS.WLG101    05_ Beverages                4265.0   \n",
       "325             NZLS.WLG103    05_ Beverages                 405.0   \n",
       "\n",
       "     Ave Cogs - L7D  days of inv  Label     Score  \n",
       "5        220.767136    13.774695      0 -0.056619  \n",
       "13         7.448428    22.420838      0 -0.073065  \n",
       "22        53.587338    45.906367      0 -0.097915  \n",
       "31       185.088802    19.158371      0 -0.104475  \n",
       "50        72.179483    59.393609      0 -0.018785  \n",
       "57        64.101947    21.918211      0 -0.114498  \n",
       "61        23.509577    29.434813      0 -0.112517  \n",
       "70        25.991403    92.338225      0 -0.015354  \n",
       "80       523.239842    20.113147      1  0.194092  \n",
       "89        84.082157    46.644855      0 -0.073885  \n",
       "98       197.794178    16.552560      0 -0.095810  \n",
       "107       54.960831    65.865089      0 -0.033112  \n",
       "116       28.511920    92.698072      0 -0.006432  \n",
       "123        2.000000    -1.000000      1  0.045768  \n",
       "128       19.848159    45.344255      0 -0.069771  \n",
       "138       22.124274   104.952595      1  0.051615  \n",
       "146       23.773254    29.865494      0 -0.114158  \n",
       "152        2.744473    71.416266      1  0.027125  \n",
       "162        2.333333   132.857143      1  0.167669  \n",
       "170      123.220679    52.491190      1  0.079311  \n",
       "176       76.649677    36.281953      0 -0.108492  \n",
       "182       49.029047    58.720293      0 -0.068483  \n",
       "188      152.985599    22.309289      0 -0.121011  \n",
       "195       80.126791    96.509544      1  0.166237  \n",
       "202      119.907095    31.674523      0 -0.093320  \n",
       "222       77.498249    19.290759      0 -0.105012  \n",
       "231      166.422880    17.629787      0 -0.108675  \n",
       "240      154.388268     5.207650      0 -0.017752  \n",
       "248       90.078594    39.188001      0 -0.099304  \n",
       "257       89.699801    23.076974      0 -0.108789  \n",
       "264       25.437470     2.751846      1  0.004288  \n",
       "270      146.311891    24.700658      0 -0.112955  \n",
       "283       64.647745    34.618377      0 -0.105894  \n",
       "291       33.877534    55.553040      0 -0.054039  \n",
       "300       18.791898    32.247939      0 -0.102172  \n",
       "308       11.766268    52.862982      0 -0.060492  \n",
       "317      176.326834    24.188037      0 -0.063302  \n",
       "325       27.769447    14.584374      0 -0.071144  "
      ]
     },
     "execution_count": 43,
     "metadata": {},
     "output_type": "execute_result"
    }
   ],
   "source": [
    "iforest_2(bev)"
   ]
  },
  {
   "cell_type": "code",
   "execution_count": null,
   "metadata": {},
   "outputs": [],
   "source": []
  },
  {
   "cell_type": "code",
   "execution_count": 48,
   "metadata": {
    "ExecuteTime": {
     "end_time": "2020-08-24T06:20:44.996335Z",
     "start_time": "2020-08-24T06:20:44.988401Z"
    }
   },
   "outputs": [
    {
     "data": {
      "text/plain": [
       "array(['AULS445924', 'AULS508899', 'AULS508863', ..., 'NZDF100571700',\n",
       "       'NZDF100657235', 'NZDF100802755'], dtype=object)"
      ]
     },
     "execution_count": 48,
     "metadata": {},
     "output_type": "execute_result"
    }
   ],
   "source": [
    "# use this to query\n",
    "output.SKU.unique()"
   ]
  },
  {
   "cell_type": "code",
   "execution_count": null,
   "metadata": {},
   "outputs": [],
   "source": []
  },
  {
   "cell_type": "code",
   "execution_count": null,
   "metadata": {},
   "outputs": [],
   "source": []
  },
  {
   "cell_type": "code",
   "execution_count": null,
   "metadata": {},
   "outputs": [],
   "source": []
  },
  {
   "cell_type": "code",
   "execution_count": null,
   "metadata": {},
   "outputs": [],
   "source": []
  },
  {
   "cell_type": "code",
   "execution_count": null,
   "metadata": {},
   "outputs": [],
   "source": []
  },
  {
   "cell_type": "code",
   "execution_count": null,
   "metadata": {},
   "outputs": [],
   "source": []
  }
 ],
 "metadata": {
  "kernelspec": {
   "display_name": "Python 3",
   "language": "python",
   "name": "python3"
  },
  "language_info": {
   "codemirror_mode": {
    "name": "ipython",
    "version": 3
   },
   "file_extension": ".py",
   "mimetype": "text/x-python",
   "name": "python",
   "nbconvert_exporter": "python",
   "pygments_lexer": "ipython3",
   "version": "3.7.6"
  },
  "varInspector": {
   "cols": {
    "lenName": 16,
    "lenType": 16,
    "lenVar": 40
   },
   "kernels_config": {
    "python": {
     "delete_cmd_postfix": "",
     "delete_cmd_prefix": "del ",
     "library": "var_list.py",
     "varRefreshCmd": "print(var_dic_list())"
    },
    "r": {
     "delete_cmd_postfix": ") ",
     "delete_cmd_prefix": "rm(",
     "library": "var_list.r",
     "varRefreshCmd": "cat(var_dic_list()) "
    }
   },
   "types_to_exclude": [
    "module",
    "function",
    "builtin_function_or_method",
    "instance",
    "_Feature"
   ],
   "window_display": false
  }
 },
 "nbformat": 4,
 "nbformat_minor": 4
}
